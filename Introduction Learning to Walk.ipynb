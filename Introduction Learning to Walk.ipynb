{
 "cells": [
  {
   "cell_type": "markdown",
   "metadata": {},
   "source": [
    "# Python Tutorials \n",
    "## Jupyter Notebook Created for tutorial on Python \n",
    "(tutorial found at: http://vincela.com/python/)\n",
    "\n",
    "- Raul Eulogio, 11/19/2016\n",
    "\n",
    "\n",
    "## Section 1: Introduction: Learning to Walk \n",
    "\n",
    "### 1.3 Basic Data Types: Strings, Integers, and Float\n",
    "\n",
    "#### A Brief Overview \n",
    "\n",
    "+ Strings\n",
    "\n",
    "**Strings** are sequences of characters, some examples include: 'ABSKADFsdfwe4' and 'The cat with the gat'. Anything surrounded with single quotes is consdered a string. We are allowed to use double and even triple (three ' or three \") quotes. "
   ]
  },
  {
   "cell_type": "code",
   "execution_count": 1,
   "metadata": {
    "collapsed": false
   },
   "outputs": [
    {
     "data": {
      "text/plain": [
       "True"
      ]
     },
     "execution_count": 1,
     "metadata": {},
     "output_type": "execute_result"
    }
   ],
   "source": [
    "x = \"A string\"\n",
    "y = 'A string'\n",
    "z = '''A string''' # notice how once you add the third python recognizes that you will be implementing triple quotes\n",
    "x == y == z "
   ]
  },
  {
   "cell_type": "markdown",
   "metadata": {},
   "source": [
    "The last line was a Boolean statement checking to see if `x`, `y`, and `z` were equal to each other. Which they were. \n",
    "\n",
    "Here we include an example of *quote embedding* which is useful when using quotes within a string\n",
    "#### Example: Quote Embedding"
   ]
  },
  {
   "cell_type": "code",
   "execution_count": 4,
   "metadata": {
    "collapsed": false
   },
   "outputs": [
    {
     "name": "stdout",
     "output_type": "stream",
     "text": [
      "The governor said that there was a 'fat chance' of this bill passing.\n"
     ]
    }
   ],
   "source": [
    "quote = \"The governor said that there was a 'fat chance' of this bill passing.\"\n",
    "print(quote)"
   ]
  },
  {
   "cell_type": "markdown",
   "metadata": {},
   "source": [
    "+ Integers\n",
    "\n",
    "Any real number, examples include: -5, 420, 666, and 187. \n",
    "\n",
    "+ Floating Point Number (or \"Float\")\n",
    "Is a deciimal number, in **Python**, all fractions are represented as floating point numbers. \n",
    "\n",
    "### Errors \n",
    "The data types determine what how it interacts with other data. Example Vincent included that was straightforward and intuitive was as such:\n",
    "\n",
    "If someone asks you to \"multiply 5 by 5\", you would be able to solve this very easily, but what if that person asked you to \"take the square root of 'potato'\"? This is how **Python** responds, more or less. "
   ]
  },
  {
   "cell_type": "code",
   "execution_count": 5,
   "metadata": {
    "collapsed": false
   },
   "outputs": [
    {
     "ename": "TypeError",
     "evalue": "unsupported operand type(s) for ** or pow(): 'str' and 'int'",
     "output_type": "error",
     "traceback": [
      "\u001b[0;31m-----------------------------------------------------------------\u001b[0m",
      "\u001b[0;31mTypeError\u001b[0m                       Traceback (most recent call last)",
      "\u001b[0;32m<ipython-input-5-61c1fb65ce2a>\u001b[0m in \u001b[0;36m<module>\u001b[0;34m()\u001b[0m\n\u001b[1;32m      3\u001b[0m \u001b[0;36m25\u001b[0m\u001b[0;34m**\u001b[0m\u001b[0;34m(\u001b[0m\u001b[0;36m1\u001b[0m\u001b[0;34m/\u001b[0m\u001b[0;36m2\u001b[0m\u001b[0;34m)\u001b[0m\u001b[0;34m\u001b[0m\u001b[0m\n\u001b[1;32m      4\u001b[0m \u001b[0;34m\u001b[0m\u001b[0m\n\u001b[0;32m----> 5\u001b[0;31m \u001b[0;34m\"potato\"\u001b[0m\u001b[0;34m**\u001b[0m\u001b[0;34m(\u001b[0m\u001b[0;36m1\u001b[0m\u001b[0;34m/\u001b[0m\u001b[0;36m2\u001b[0m\u001b[0;34m)\u001b[0m\u001b[0;34m\u001b[0m\u001b[0m\n\u001b[0m",
      "\u001b[0;31mTypeError\u001b[0m: unsupported operand type(s) for ** or pow(): 'str' and 'int'"
     ]
    }
   ],
   "source": [
    "5 * 5\n",
    "\n",
    "25**(1/2)\n",
    "\n",
    "\"potato\"**(1/2)"
   ]
  },
  {
   "cell_type": "markdown",
   "metadata": {},
   "source": [
    "So from this error code we can see that **Python** didn't like us doing the operation (\\**) to the string \"potato\" and the `floating point` (1/2)  \n",
    "\n",
    "Let's see more examples of how different data types interact"
   ]
  },
  {
   "cell_type": "code",
   "execution_count": 6,
   "metadata": {
    "collapsed": false
   },
   "outputs": [
    {
     "ename": "TypeError",
     "evalue": "unsupported operand type(s) for +: 'int' and 'str'",
     "output_type": "error",
     "traceback": [
      "\u001b[0;31m-----------------------------------------------------------------\u001b[0m",
      "\u001b[0;31mTypeError\u001b[0m                       Traceback (most recent call last)",
      "\u001b[0;32m<ipython-input-6-ee3e20b9a270>\u001b[0m in \u001b[0;36m<module>\u001b[0;34m()\u001b[0m\n\u001b[1;32m      1\u001b[0m \u001b[0mx\u001b[0m \u001b[0;34m=\u001b[0m \u001b[0;36m123\u001b[0m\u001b[0;34m\u001b[0m\u001b[0m\n\u001b[1;32m      2\u001b[0m \u001b[0my\u001b[0m \u001b[0;34m=\u001b[0m \u001b[0;34m'123'\u001b[0m\u001b[0;34m\u001b[0m\u001b[0m\n\u001b[0;32m----> 3\u001b[0;31m \u001b[0mx\u001b[0m \u001b[0;34m+\u001b[0m \u001b[0my\u001b[0m\u001b[0;34m\u001b[0m\u001b[0m\n\u001b[0m",
      "\u001b[0;31mTypeError\u001b[0m: unsupported operand type(s) for +: 'int' and 'str'"
     ]
    }
   ],
   "source": [
    "x = 123\n",
    "y = '123'\n",
    "x + y"
   ]
  },
  {
   "cell_type": "code",
   "execution_count": 10,
   "metadata": {
    "collapsed": false
   },
   "outputs": [
    {
     "name": "stdout",
     "output_type": "stream",
     "text": [
      "Here's the data type for x:\n",
      "<type 'int'>\n",
      "Here's the data type for y:\n",
      "<type 'str'>\n"
     ]
    }
   ],
   "source": [
    "print(\"Here's the data type for x:\")\n",
    "print(type(x))\n",
    "\n",
    "print(\"Here's the data type for y:\")\n",
    "print(type(y))"
   ]
  },
  {
   "cell_type": "markdown",
   "metadata": {},
   "source": [
    "So as we saw the types are incompatible so we can't do the (+) operation, luckily we can do transformations using the following:\n",
    "+ `int()`\n",
    "+ `float()`\n",
    "\n",
    "### Example"
   ]
  },
  {
   "cell_type": "code",
   "execution_count": 11,
   "metadata": {
    "collapsed": false
   },
   "outputs": [
    {
     "data": {
      "text/plain": [
       "246"
      ]
     },
     "execution_count": 11,
     "metadata": {},
     "output_type": "execute_result"
    }
   ],
   "source": [
    "x + int(y)"
   ]
  },
  {
   "cell_type": "code",
   "execution_count": 12,
   "metadata": {
    "collapsed": false
   },
   "outputs": [
    {
     "data": {
      "text/plain": [
       "'3.143.14'"
      ]
     },
     "execution_count": 12,
     "metadata": {},
     "output_type": "execute_result"
    }
   ],
   "source": [
    "pi = '3.14'\n",
    "pi * 2"
   ]
  },
  {
   "cell_type": "code",
   "execution_count": 13,
   "metadata": {
    "collapsed": false
   },
   "outputs": [
    {
     "data": {
      "text/plain": [
       "6.28"
      ]
     },
     "execution_count": 13,
     "metadata": {},
     "output_type": "execute_result"
    }
   ],
   "source": [
    "float(pi) * 2"
   ]
  },
  {
   "cell_type": "markdown",
   "metadata": {},
   "source": [
    "## More Errors\n",
    "\"Errors are a fact of life in programming.\" - Vincent La\n",
    "\n",
    "So much truth in that sentence. So learning how to deal with errors, which includes learning to read error messages - is an essential **Python** (and Data Science) skill. \n",
    "\n",
    "### Syntax Error \n",
    "Examples of syntax errors in English include:\n",
    "+ I putted the items on the shelf.\n",
    "+ I want to buy a car a house and a dog. \n",
    "+ Your car is blocking the sidewalk yesterday. \n",
    "\n",
    "So **Python** has grammar rules much like English, but even though you can still infer the meaning of the sentences above, Python has **zero tolerance** for bad grammar. Most syntax errors, no matter how \"trivial\", will crash a program. \n",
    "\n",
    "Usually, syntax errors involve \n",
    "+ Missing quotes (like forgetting to close off strings)\n",
    "+ Missing colons\n",
    "+ Missing parentheses\n",
    "+ Mis-indented code blocks\n",
    "\n",
    "#### Error caused by mismatching quotes"
   ]
  },
  {
   "cell_type": "code",
   "execution_count": 14,
   "metadata": {
    "collapsed": false
   },
   "outputs": [
    {
     "ename": "SyntaxError",
     "evalue": "EOL while scanning string literal (<ipython-input-14-b7c75331cd48>, line 1)",
     "output_type": "error",
     "traceback": [
      "\u001b[0;36m  File \u001b[0;32m\"<ipython-input-14-b7c75331cd48>\"\u001b[0;36m, line \u001b[0;32m1\u001b[0m\n\u001b[0;31m    string = \"...was cut too short'\u001b[0m\n\u001b[0m                                  ^\u001b[0m\n\u001b[0;31mSyntaxError\u001b[0m\u001b[0;31m:\u001b[0m EOL while scanning string literal\n"
     ]
    }
   ],
   "source": [
    "string = \"...was cut too short'"
   ]
  },
  {
   "cell_type": "markdown",
   "metadata": {},
   "source": [
    "#### Error caused by missing colon"
   ]
  },
  {
   "cell_type": "code",
   "execution_count": 15,
   "metadata": {
    "collapsed": false
   },
   "outputs": [
    {
     "ename": "SyntaxError",
     "evalue": "invalid syntax (<ipython-input-15-ebf655045173>, line 2)",
     "output_type": "error",
     "traceback": [
      "\u001b[0;36m  File \u001b[0;32m\"<ipython-input-15-ebf655045173>\"\u001b[0;36m, line \u001b[0;32m2\u001b[0m\n\u001b[0;31m    while condition\u001b[0m\n\u001b[0m                   ^\u001b[0m\n\u001b[0;31mSyntaxError\u001b[0m\u001b[0;31m:\u001b[0m invalid syntax\n"
     ]
    }
   ],
   "source": [
    "condition = True\n",
    "while condition"
   ]
  },
  {
   "cell_type": "markdown",
   "metadata": {},
   "source": [
    "## 1.3.1 String Operations\n",
    "Let's play with strings now! \n",
    "\n",
    "### Basic String Operations\n",
    "#### concatenation: Joining Strings Together\n",
    "\n",
    "The plus sign + is an **operator** which tells **Python** to join strings together. An operator is a symbol which tells us that a certain operation should be performed. \n",
    "\n",
    "For example, in \"2/3\", the slash operator tells us that we should divide 2 by 3. "
   ]
  },
  {
   "cell_type": "code",
   "execution_count": 17,
   "metadata": {
    "collapsed": false
   },
   "outputs": [
    {
     "data": {
      "text/plain": [
       "'Colorless green ideas sleep furiously.'"
      ]
     },
     "execution_count": 17,
     "metadata": {},
     "output_type": "execute_result"
    }
   ],
   "source": [
    "x = \"Colorless green ideas\"\n",
    "y = \"sleep furiously.\"\n",
    "\n",
    "z = x + \" \" + y\n",
    "z"
   ]
  },
  {
   "cell_type": "markdown",
   "metadata": {},
   "source": [
    "### Concatenation involving numbers\n",
    "\n",
    "You have to convert the number into a string. \n",
    "\n",
    "#### Incorrect"
   ]
  },
  {
   "cell_type": "code",
   "execution_count": 18,
   "metadata": {
    "collapsed": false
   },
   "outputs": [
    {
     "ename": "TypeError",
     "evalue": "cannot concatenate 'str' and 'int' objects",
     "output_type": "error",
     "traceback": [
      "\u001b[0;31m-----------------------------------------------------------------\u001b[0m",
      "\u001b[0;31mTypeError\u001b[0m                       Traceback (most recent call last)",
      "\u001b[0;32m<ipython-input-18-2f465aef5015>\u001b[0m in \u001b[0;36m<module>\u001b[0;34m()\u001b[0m\n\u001b[1;32m      1\u001b[0m \u001b[0mmoney\u001b[0m \u001b[0;34m=\u001b[0m \u001b[0;36m10\u001b[0m\u001b[0;34m\u001b[0m\u001b[0m\n\u001b[1;32m      2\u001b[0m \u001b[0;34m\u001b[0m\u001b[0m\n\u001b[0;32m----> 3\u001b[0;31m \u001b[0;34m\"I have \"\u001b[0m \u001b[0;34m+\u001b[0m \u001b[0mmoney\u001b[0m \u001b[0;34m+\u001b[0m \u001b[0;34m\" dollars\"\u001b[0m\u001b[0;34m\u001b[0m\u001b[0m\n\u001b[0m",
      "\u001b[0;31mTypeError\u001b[0m: cannot concatenate 'str' and 'int' objects"
     ]
    }
   ],
   "source": [
    "money = 10\n",
    "\n",
    "\"I have \" + money + \" dollars\""
   ]
  },
  {
   "cell_type": "markdown",
   "metadata": {},
   "source": [
    "#### Correct"
   ]
  },
  {
   "cell_type": "code",
   "execution_count": 19,
   "metadata": {
    "collapsed": false
   },
   "outputs": [
    {
     "data": {
      "text/plain": [
       "'I have 10 dollars'"
      ]
     },
     "execution_count": 19,
     "metadata": {},
     "output_type": "execute_result"
    }
   ],
   "source": [
    "\"I have \" + str(money) + \" dollars\""
   ]
  },
  {
   "cell_type": "markdown",
   "metadata": {},
   "source": [
    "### Repetition \n",
    "The asterick symbol * when applied to strings causes the string to be repeated. (When applied to numbers, you multiply) "
   ]
  },
  {
   "cell_type": "code",
   "execution_count": 29,
   "metadata": {
    "collapsed": false
   },
   "outputs": [
    {
     "name": "stdout",
     "output_type": "stream",
     "text": [
      "Here we repeat the string twice:\n",
      "Repeat after me.Repeat after me.\n",
      "Here we repeat the string three times:\n",
      "Repeat after me.Repeat after me.Repeat after me.\n"
     ]
    },
    {
     "data": {
      "text/plain": [
       "'EchoEchoEchoEchoEchoEchoEchoEchoEchoEcho'"
      ]
     },
     "execution_count": 29,
     "metadata": {},
     "output_type": "execute_result"
    }
   ],
   "source": [
    "x = \"Repeat after me.\"\n",
    "print(\"Here we repeat the string twice:\")\n",
    "print(x*2)\n",
    "\n",
    "print(\"Here we repeat the string three times:\")\n",
    "print(x*3)\n",
    "\n",
    "y = \"Echo\"\n",
    "y * 10"
   ]
  },
  {
   "cell_type": "markdown",
   "metadata": {},
   "source": [
    "### Practice Problem: The Plus Operator \n",
    "Without assigning any new variables, write the `print()` statement which will create the message:\n",
    "\n",
    "    The total cost is $18\n",
    "\n",
    "By adding up the costs of shampoo, milk, eggs, and bacon. "
   ]
  },
  {
   "cell_type": "code",
   "execution_count": 31,
   "metadata": {
    "collapsed": false
   },
   "outputs": [
    {
     "name": "stdout",
     "output_type": "stream",
     "text": [
      "The total cost is $18\n"
     ]
    }
   ],
   "source": [
    "shampoo = 5\n",
    "milk = 3\n",
    "eggs = 5\n",
    "bacon = 5\n",
    "\n",
    "print(\"The total cost is $\" + str(shampoo + milk + eggs + bacon))"
   ]
  },
  {
   "cell_type": "markdown",
   "metadata": {},
   "source": [
    "## String Methods\n",
    "\n",
    "Define \"method\" later, but for now understanding \"string methods\" as functions which are applied specifically to strings will suffice. \n",
    "\n",
    "### Check if string contains only numbers \n",
    "Think this is broken on your site\n",
    "\n",
    "What was probably meant:\n",
    "\n"
   ]
  },
  {
   "cell_type": "code",
   "execution_count": 6,
   "metadata": {
    "collapsed": false
   },
   "outputs": [
    {
     "ename": "AttributeError",
     "evalue": "'str' object has no attribute 'isnumeric'",
     "output_type": "error",
     "traceback": [
      "\u001b[0;31m------------------------------------------------\u001b[0m",
      "\u001b[0;31mAttributeError\u001b[0m Traceback (most recent call last)",
      "\u001b[0;32m<ipython-input-6-20b549b73b3c>\u001b[0m in \u001b[0;36m<module>\u001b[0;34m()\u001b[0m\n\u001b[0;32m----> 1\u001b[0;31m \u001b[0;34m\"555\"\u001b[0m\u001b[0;34m.\u001b[0m\u001b[0misnumeric\u001b[0m\u001b[0;34m\u001b[0m\u001b[0m\n\u001b[0m",
      "\u001b[0;31mAttributeError\u001b[0m: 'str' object has no attribute 'isnumeric'"
     ]
    }
   ],
   "source": [
    "\"555\".isnumeric"
   ]
  },
  {
   "cell_type": "code",
   "execution_count": null,
   "metadata": {
    "collapsed": true
   },
   "outputs": [],
   "source": []
  }
 ],
 "metadata": {
  "kernelspec": {
   "display_name": "Python 2",
   "language": "python",
   "name": "python2"
  },
  "language_info": {
   "codemirror_mode": {
    "name": "ipython",
    "version": 2
   },
   "file_extension": ".py",
   "mimetype": "text/x-python",
   "name": "python",
   "nbconvert_exporter": "python",
   "pygments_lexer": "ipython2",
   "version": "2.7.6"
  }
 },
 "nbformat": 4,
 "nbformat_minor": 1
}
