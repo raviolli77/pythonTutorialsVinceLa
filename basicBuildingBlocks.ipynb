{
 "cells": [
  {
   "cell_type": "markdown",
   "metadata": {},
   "source": [
    "# Python Tutorials \n",
    "## Jupyter Notebook Created for tutorial on Python \n",
    "(tutorial found at: http://vincela.com/python/)\n",
    "\n",
    "- Raul Eulogio, 11/3/2016\n",
    "\n",
    "\n"
   ]
  },
  {
   "cell_type": "markdown",
   "metadata": {},
   "source": [
    "## Section 2: Building Blocks \n",
    "\n",
    "### 2.1.1 Boolean Statements and Control Flow\n",
    "Important to note from this section:\n",
    "- Boolean Expressions are represented by 0's and 1's\n",
    "- 0: False statement\n",
    "- 1: True statement"
   ]
  },
  {
   "cell_type": "markdown",
   "metadata": {},
   "source": [
    "## Evaluating Boolean Statements Directly\n",
    "In **Python**, we can directly check the truth-value of a Boolean statement by using the `bool()` function. We can use operators such as:\n",
    "\n",
    "Operator |  Result\n",
    "---------|-----------\n",
    "x = y    |**True** if x is equal to y. **False** otherwise\n",
    "x != y   |**True** if x is not equal to y. **False** otherwise\n",
    "x > y    |**True** if x is greater than y. \n",
    "x >= y   |**True** if x is greater than or equal to y. **False** otherwise\n",
    "x < y    |**True** if x is less than y. **False** otherwise\n",
    "x <= y   |**True** if x is less than or equal to y. **False** otherwise\n",
    "\n",
    "## Example"
   ]
  },
  {
   "cell_type": "code",
   "execution_count": 11,
   "metadata": {
    "collapsed": false
   },
   "outputs": [
    {
     "data": {
      "text/plain": [
       "False"
      ]
     },
     "execution_count": 11,
     "metadata": {},
     "output_type": "execute_result"
    }
   ],
   "source": [
    "x = 5\n",
    "bool(x > 10)"
   ]
  },
  {
   "cell_type": "markdown",
   "metadata": {},
   "source": [
    "## Example 2: Checking if x is between two numbers\n",
    "We're asking \"Is x greater than 0 and less than 10?\""
   ]
  },
  {
   "cell_type": "code",
   "execution_count": 15,
   "metadata": {
    "collapsed": false
   },
   "outputs": [
    {
     "data": {
      "text/plain": [
       "True"
      ]
     },
     "execution_count": 15,
     "metadata": {},
     "output_type": "execute_result"
    }
   ],
   "source": [
    "x = 5\n",
    "bool(0 < x < 10)"
   ]
  },
  {
   "cell_type": "code",
   "execution_count": 16,
   "metadata": {
    "collapsed": false
   },
   "outputs": [
    {
     "data": {
      "text/plain": [
       "False"
      ]
     },
     "execution_count": 16,
     "metadata": {},
     "output_type": "execute_result"
    }
   ],
   "source": [
    "y = 20\n",
    "bool(0 < y < 10)"
   ]
  },
  {
   "cell_type": "markdown",
   "metadata": {},
   "source": [
    "## Why use them?\n",
    "We won't really be using the `bool()` function directly, but almost all programming will involve *implicitly* determining truth-values. Basically we want to do one thing if a certain condition is true an another thing if it is false.\n",
    "\n",
    "Boolean statements are practical and we use them almost everyday Here we have pseudocode that roughly translates this sentence:\n",
    "\n",
    "\"If there are zombies outside, I'll grab my gun. Otherwise, I'll leave it home\"."
   ]
  },
  {
   "cell_type": "code",
   "execution_count": 3,
   "metadata": {
    "collapsed": true
   },
   "outputs": [
    {
     "data": {
      "text/plain": [
       "'\\nproposition = \"There are zombies\"\\nif proposition is True: # python == True, R == TRUE REMEMBER!\\n    get_weapon(\"rifle\")\\n    get_weapon(\"bat\")\\nelse:\\n    do_nothing()\\n    live_normally()\\n'"
      ]
     },
     "execution_count": 3,
     "metadata": {},
     "output_type": "execute_result"
    }
   ],
   "source": [
    "'''\n",
    "proposition = \"There are zombies\"\n",
    "if proposition is True: # python == True, R == TRUE REMEMBER!\n",
    "    get_weapon(\"rifle\")\n",
    "    get_weapon(\"bat\")\n",
    "else:\n",
    "    do_nothing()\n",
    "    live_normally()\n",
    "'''"
   ]
  },
  {
   "cell_type": "markdown",
   "metadata": {},
   "source": [
    "For the example the Boolean statement was the proposition *\"There are zombies\"*. The proposition has two values **True** or **False**. It follows that the **if** statement executes if the proposition was **True**, and the **else** statement executes if it is **False**!\n",
    "\n",
    "## Branching Out with Control Flow\n",
    "Guess this section is incomplete...\n",
    "\n",
    "Did own research to find that **Control Flow** \"is the order in which individual statements, instructions or function calls of an imperative program are executed or evaluated\" (Grabbed from [Wikipedia](https://en.wikipedia.org/wiki/Control_flow)) \n",
    "\n",
    "Picture helps a lot with understanding what **Control Flow** is (Also found at Wikipedia):\n",
    "![alt text](https://upload.wikimedia.org/wikipedia/commons/0/06/For-loop-diagram.png)\n",
    "\n",
    "\n",
    "## Tricks with Boolean Statements\n",
    "So empty strings, lists, dicts, and other container objects evaluate to **False**\n",
    "\n",
    "Examples here:"
   ]
  },
  {
   "cell_type": "code",
   "execution_count": 17,
   "metadata": {
    "collapsed": false
   },
   "outputs": [
    {
     "name": "stdout",
     "output_type": "stream",
     "text": [
      "Result:\n",
      "True\n",
      "Result:\n",
      "True\n",
      "Result:\n",
      "True\n"
     ]
    }
   ],
   "source": [
    "print(\"Result:\")\n",
    "print(bool(\"Should we overthrow the Bougeoise?\"))\n",
    "\n",
    "print(\"Result:\")\n",
    "print(bool([4, 2, 0, 666]))\n",
    "\n",
    "print(\"Result:\")\n",
    "print(bool({\"staples\":500, \"pens\":10, \"notebook\":5, \"post-its\":200}))"
   ]
  },
  {
   "cell_type": "markdown",
   "metadata": {},
   "source": [
    "### Now let's try the empty shit:"
   ]
  },
  {
   "cell_type": "code",
   "execution_count": 16,
   "metadata": {
    "collapsed": false
   },
   "outputs": [
    {
     "name": "stdout",
     "output_type": "stream",
     "text": [
      "Result:\n",
      "False\n",
      "Result:\n",
      "False\n",
      "Result:\n",
      "False\n"
     ]
    }
   ],
   "source": [
    "print(\"Result:\")\n",
    "print(bool(\"\"))\n",
    "\n",
    "print(\"Result:\")\n",
    "print(bool([]))\n",
    "\n",
    "print(\"Result:\")\n",
    "print(bool({}))"
   ]
  },
  {
   "cell_type": "markdown",
   "metadata": {
    "collapsed": true
   },
   "source": [
    "## Section 2.2.1: For and While Loops \n",
    "\n",
    "A **Loop** is a structure in **Python** and other programming langauges that repeats its commands until a certain termination condition is met. **SUPER IMPORTANT AND USEFUL** for shortening of code!\n"
   ]
  },
  {
   "cell_type": "code",
   "execution_count": 2,
   "metadata": {
    "collapsed": false
   },
   "outputs": [
    {
     "name": "stdout",
     "output_type": "stream",
     "text": [
      "10\n",
      "9\n",
      "8\n",
      "7\n",
      "6\n",
      "5\n",
      "4\n",
      "3\n",
      "2\n",
      "1\n"
     ]
    }
   ],
   "source": [
    "n = 10\n",
    "\n",
    "while n > 0:\n",
    "    print(n)\n",
    "    n -= 1"
   ]
  },
  {
   "cell_type": "markdown",
   "metadata": {},
   "source": [
    "### An Illustration\n",
    "Here is an illustration of this process: (Hand drawn by Vincent himself!)\n",
    "![](http://vincela.com/static/loop/while_loop.png)"
   ]
  },
  {
   "cell_type": "markdown",
   "metadata": {},
   "source": [
    "## Practice Problem \n",
    "For the example above we have **Python** spitting out all the numbers immdediately, using the `sleep()` function from the `time` module write a script that pauses for a second for each number to be printed. \n",
    "(FEEDBACK: Maybe you can add some context as to how to use the module, or put like *reminder this is how you call up a specific function from a module \"_____\")"
   ]
  },
  {
   "cell_type": "code",
   "execution_count": 2,
   "metadata": {
    "collapsed": false
   },
   "outputs": [
    {
     "name": "stdout",
     "output_type": "stream",
     "text": [
      "Output:\n",
      "5\n",
      "6\n",
      "7\n",
      "8\n",
      "9\n",
      "10\n"
     ]
    }
   ],
   "source": [
    "from time import sleep\n",
    "print(\"Output:\")\n",
    "for n in range(5, 11):\n",
    "    sleep(1)\n",
    "    print(n)"
   ]
  },
  {
   "cell_type": "markdown",
   "metadata": {},
   "source": [
    "### I did the wrong problem using the practice problem because I'm hungover \n",
    "Oh well more practice"
   ]
  },
  {
   "cell_type": "code",
   "execution_count": 4,
   "metadata": {
    "collapsed": false
   },
   "outputs": [
    {
     "name": "stdout",
     "output_type": "stream",
     "text": [
      "10\n",
      "9\n",
      "8\n",
      "7\n",
      "6\n",
      "5\n",
      "4\n",
      "3\n",
      "2\n",
      "1\n"
     ]
    }
   ],
   "source": [
    "from time import sleep\n",
    "\n",
    "n = 10\n",
    "\n",
    "while n > 0:\n",
    "    sleep(2)\n",
    "    print(n)\n",
    "    n -= 1"
   ]
  },
  {
   "cell_type": "markdown",
   "metadata": {},
   "source": [
    "## For Loops \n",
    "a for loop takes an **iterable** and goes over, or **ITERATES**, over the individual items."
   ]
  },
  {
   "cell_type": "code",
   "execution_count": 3,
   "metadata": {
    "collapsed": false
   },
   "outputs": [
    {
     "name": "stdout",
     "output_type": "stream",
     "text": [
      "Raiders\n",
      "Broncos\n",
      "Chiefs\n",
      "Chargers\n"
     ]
    }
   ],
   "source": [
    "afc_west = [\"Raiders\", \"Broncos\", \"Chiefs\", \"Chargers\"]\n",
    "\n",
    "for team in afc_west:\n",
    "    print(team)"
   ]
  },
  {
   "cell_type": "markdown",
   "metadata": {},
   "source": [
    "### Process\n",
    "A **for loop** \n",
    "\n",
    "1. Set team = \"Raiders\"\n",
    "    1. Execute print(team)(where team =\"Raiders\")\n",
    "2. Set team = \"Broncos\"\n",
    "    1. Execute print(team)(where team =\"Broncos\")\n",
    "3. Set team = \"Chiefs\"\n",
    "    1. Execute print(team)(where team =\"Chiefs\")\n",
    "4. Set team = \"Chargers\"\n",
    "    1. Execute print(team)(where team = Chargers\")\n"
   ]
  },
  {
   "cell_type": "markdown",
   "metadata": {},
   "source": [
    "## The function range()\n",
    "The `range()` function will often be paired with the *for loops*, to iterate \"is compromised of a list of integers between some specified starting point and some ending point\". \n",
    "\n",
    "Example: Print all the integers from 5 to 10"
   ]
  },
  {
   "cell_type": "code",
   "execution_count": 7,
   "metadata": {
    "collapsed": false
   },
   "outputs": [
    {
     "name": "stdout",
     "output_type": "stream",
     "text": [
      "Output:\n",
      "5\n",
      "6\n",
      "7\n",
      "8\n",
      "9\n",
      "10\n"
     ]
    }
   ],
   "source": [
    "print(\"Output:\")\n",
    "for n in range(5, 11):\n",
    "    print(n)"
   ]
  },
  {
   "cell_type": "markdown",
   "metadata": {},
   "source": [
    "Notice that **Python** prints out the starting point, but not the end point! Just take note of that because this is a common mistake people do when using this function.\n",
    "\n",
    "## Example: Printing multiples of 5"
   ]
  },
  {
   "cell_type": "code",
   "execution_count": 7,
   "metadata": {
    "collapsed": false
   },
   "outputs": [
    {
     "name": "stdout",
     "output_type": "stream",
     "text": [
      "Output:\n",
      "0\n",
      "5\n",
      "10\n",
      "15\n",
      "20\n",
      "25\n",
      "30\n",
      "35\n",
      "40\n",
      "45\n",
      "50\n"
     ]
    }
   ],
   "source": [
    "print(\"Output:\")\n",
    "for n in range(0, 51, 5):\n",
    "    print(n)"
   ]
  },
  {
   "cell_type": "code",
   "execution_count": 8,
   "metadata": {
    "collapsed": false
   },
   "outputs": [
    {
     "name": "stdout",
     "output_type": "stream",
     "text": [
      "Output:\n",
      "0\n",
      "5\n",
      "10\n",
      "15\n",
      "20\n",
      "25\n",
      "30\n",
      "35\n",
      "40\n",
      "45\n",
      "50\n"
     ]
    }
   ],
   "source": [
    "# let's do the sleep function for shits and giggles\n",
    "print(\"Output:\")\n",
    "for n in range(0, 51, 5):\n",
    "    sleep(2)\n",
    "    print(n)"
   ]
  },
  {
   "cell_type": "markdown",
   "metadata": {},
   "source": [
    "## Example: Countdown (for loop style)\n",
    "We can count in reverse"
   ]
  },
  {
   "cell_type": "code",
   "execution_count": 10,
   "metadata": {
    "collapsed": false
   },
   "outputs": [
    {
     "name": "stdout",
     "output_type": "stream",
     "text": [
      "Output:\n",
      "10\n",
      "9\n",
      "8\n",
      "7\n",
      "6\n",
      "5\n",
      "4\n",
      "3\n",
      "2\n",
      "1\n"
     ]
    }
   ],
   "source": [
    "print(\"Output:\")\n",
    "for n in range(10, 0, -1):\n",
    "    print(n)"
   ]
  },
  {
   "cell_type": "code",
   "execution_count": null,
   "metadata": {
    "collapsed": true
   },
   "outputs": [],
   "source": []
  }
 ],
 "metadata": {
  "kernelspec": {
   "display_name": "Python 2",
   "language": "python",
   "name": "python2"
  },
  "language_info": {
   "codemirror_mode": {
    "name": "ipython",
    "version": 2
   },
   "file_extension": ".py",
   "mimetype": "text/x-python",
   "name": "python",
   "nbconvert_exporter": "python",
   "pygments_lexer": "ipython2",
   "version": "2.7.6"
  }
 },
 "nbformat": 4,
 "nbformat_minor": 1
}
