{
 "cells": [
  {
   "cell_type": "markdown",
   "metadata": {},
   "source": [
    "# Python Tutorials \n",
    "## Jupyter Notebook Created for tutorial on Python \n",
    "(tutorial found at: http://vincela.com/python/)\n",
    "\n",
    "- Raul Eulogio, 11/3/2016\n",
    "\n",
    "\n"
   ]
  },
  {
   "cell_type": "markdown",
   "metadata": {},
   "source": [
    "## Section 2: Building Blocks \n",
    "\n",
    "### 2.1 Boolean Statements and Control Flow\n",
    "Important to note from this section:\n",
    "- Boolean Expressions are represented by 0's and 1's\n",
    "- 0: False statement\n",
    "- 1: True statement"
   ]
  },
  {
   "cell_type": "code",
   "execution_count": 3,
   "metadata": {
    "collapsed": true
   },
   "outputs": [
    {
     "data": {
      "text/plain": [
       "'\\nproposition = \"There are zombies\"\\nif proposition is True: # python == True, R == TRUE REMEMBER!\\n    get_weapon(\"rifle\")\\n    get_weapon(\"bat\")\\nelse:\\n    do_nothing()\\n    live_normally()\\n'"
      ]
     },
     "execution_count": 3,
     "metadata": {},
     "output_type": "execute_result"
    }
   ],
   "source": [
    "# Boolean statements are practical and we use them almost everyday \n",
    "# Here we have pseudocode that roughly translates this sentence:\n",
    "# \"If there are zombies outside, I'll grab my gun. Otherwise, I'll leave it home.\n",
    "'''\n",
    "proposition = \"There are zombies\"\n",
    "if proposition is True: # python == True, R == TRUE REMEMBER!\n",
    "    get_weapon(\"rifle\")\n",
    "    get_weapon(\"bat\")\n",
    "else:\n",
    "    do_nothing()\n",
    "    live_normally()\n",
    "'''"
   ]
  },
  {
   "cell_type": "markdown",
   "metadata": {},
   "source": [
    "For the example the Boolean statement was the proposition *\"There are zombies\"*. The proposition has two values **True** or **False**. It follows that the **if** statement executes if the proposition was **True**, and the **else** statement executes if it is **False**!\n",
    "\n",
    "## Branching Out with Control Flow\n",
    "Guess this section is incomplete...\n",
    "\n",
    "Did own research to find that **Control Flow** \"is the order in which individual statements, instructions or function calls of an imperative program are executed or evaluated\" (Grabbed from [Wikipedia](https://en.wikipedia.org/wiki/Control_flow)) \n",
    "\n",
    "Picture helps a lot with understanding what **Control Flow** is (Also found at Wikipedia):\n",
    "![alt text](https://upload.wikimedia.org/wikipedia/commons/0/06/For-loop-diagram.png)\n",
    "\n",
    "\n",
    "## Tricks with Boolean Statements\n",
    "So empty strings, lists, dicts, and other container objects evaluate to **False**\n",
    "\n",
    "Examples here:"
   ]
  },
  {
   "cell_type": "code",
   "execution_count": 17,
   "metadata": {
    "collapsed": false
   },
   "outputs": [
    {
     "name": "stdout",
     "output_type": "stream",
     "text": [
      "Result:\n",
      "True\n",
      "Result:\n",
      "True\n",
      "Result:\n",
      "True\n"
     ]
    }
   ],
   "source": [
    "print(\"Result:\")\n",
    "print(bool(\"Should we overthrow the Bougeoise?\"))\n",
    "\n",
    "print(\"Result:\")\n",
    "print(bool([4, 2, 0, 666]))\n",
    "\n",
    "print(\"Result:\")\n",
    "print(bool({\"staples\":500, \"pens\":10, \"notebook\":5, \"post-its\":200}))"
   ]
  },
  {
   "cell_type": "markdown",
   "metadata": {},
   "source": [
    "### Now let's try the empty shit:"
   ]
  },
  {
   "cell_type": "code",
   "execution_count": 16,
   "metadata": {
    "collapsed": false
   },
   "outputs": [
    {
     "name": "stdout",
     "output_type": "stream",
     "text": [
      "Result:\n",
      "False\n",
      "Result:\n",
      "False\n",
      "Result:\n",
      "False\n"
     ]
    }
   ],
   "source": [
    "print(\"Result:\")\n",
    "print(bool(\"\"))\n",
    "\n",
    "print(\"Result:\")\n",
    "print(bool([]))\n",
    "\n",
    "print(\"Result:\")\n",
    "print(bool({}))"
   ]
  },
  {
   "cell_type": "code",
   "execution_count": null,
   "metadata": {
    "collapsed": true
   },
   "outputs": [],
   "source": []
  }
 ],
 "metadata": {
  "kernelspec": {
   "display_name": "Python 2",
   "language": "python",
   "name": "python2"
  },
  "language_info": {
   "codemirror_mode": {
    "name": "ipython",
    "version": 2
   },
   "file_extension": ".py",
   "mimetype": "text/x-python",
   "name": "python",
   "nbconvert_exporter": "python",
   "pygments_lexer": "ipython2",
   "version": "2.7.6"
  }
 },
 "nbformat": 4,
 "nbformat_minor": 1
}
